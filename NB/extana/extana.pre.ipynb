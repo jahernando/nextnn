{
 "cells": [
  {
   "cell_type": "markdown",
   "metadata": {},
   "source": [
    "## True MC hits - blob discrimination - different pressures\n",
    "\n",
    "JA Hernando, 14 June 2024"
   ]
  },
  {
   "cell_type": "markdown",
   "metadata": {},
   "source": [
    "* MC true information generated and labeled by Martin\n",
    "\n",
    "* 2, 5, 13, 20 bar in NEXT-100\n",
    "\n",
    "* bb0nu, 1eroi (1 electron in Roi (in Qbb region))\n",
    "\n",
    "* pure MC (no smearing, 2x2x2 mm^2 voxels)\n",
    "\n",
    "* add the energy in the sphere on the MC labeled etreme of the track \n",
    "\n",
    "* compare the 2nd blob\n",
    "\n"
   ]
  },
  {
   "cell_type": "markdown",
   "metadata": {},
   "source": [
    "**Distributions of the 2nd blob energy and number of mc hits**\n",
    "\n",
    "\n",
    "13 bar, 6 min radius (12 mm diameter)\n",
    "\n",
    "| | |\n",
    "| :--: | :--: |\n",
    "| ![13bar 6 mm](img/extana_13bar_6mm_eblob.png) | ![13bar 6 mm](img/extana_5bar_6mm_eblob.png) |\n"
   ]
  },
  {
   "cell_type": "markdown",
   "metadata": {},
   "source": [
    "**RoC for different pressures**"
   ]
  },
  {
   "cell_type": "markdown",
   "metadata": {},
   "source": [
    "| | |\n",
    "| :--: | :--: |\n",
    "| ![ 2 bar](img/extana_2bar_roc_radius.png)  | ![5bar](img/extana_5bar_roc_radius.png) |\n",
    "| ![13 bar](img/extana_13bar_roc_radius.png) | ![20 bar](img/extana_20bar_roc_radius.png) |"
   ]
  },
  {
   "cell_type": "markdown",
   "metadata": {},
   "source": []
  },
  {
   "cell_type": "markdown",
   "metadata": {},
   "source": [
    "**Conclusions**\n",
    "\n",
    "* As expected the 2nd blob true-MC no-smearing works very will (10^-2) discriminantion for 99% eff, at 6 mm, at high pressures, the size of the sphere is maybe large.\n",
    "\n",
    "* The result worsen with pressure."
   ]
  }
 ],
 "metadata": {
  "language_info": {
   "name": "python"
  }
 },
 "nbformat": 4,
 "nbformat_minor": 2
}
