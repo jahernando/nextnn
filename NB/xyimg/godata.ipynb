{
 "cells": [
  {
   "cell_type": "markdown",
   "metadata": {},
   "source": [
    "# Test GoData preparation"
   ]
  },
  {
   "cell_type": "code",
   "execution_count": 66,
   "metadata": {},
   "outputs": [],
   "source": [
    "%matplotlib inline \n",
    "\n",
    "#%matplotlib notebook\n",
    "#matplotlib widget\n",
    "%reload_ext autoreload\n",
    "%autoreload 2"
   ]
  },
  {
   "cell_type": "code",
   "execution_count": 67,
   "metadata": {},
   "outputs": [],
   "source": [
    "import numpy     as np\n",
    "import pandas    as pd\n",
    "from   scipy     import stats\n",
    "import os\n",
    "import matplotlib.pyplot as plt\n",
    "\n",
    "import xyimg.dataprep as dp\n",
    "import xyimg.detsim   as dsim"
   ]
  },
  {
   "cell_type": "code",
   "execution_count": 68,
   "metadata": {},
   "outputs": [],
   "source": [
    "## Test"
   ]
  },
  {
   "cell_type": "code",
   "execution_count": 73,
   "metadata": {},
   "outputs": [
    {
     "name": "stdout",
     "output_type": "stream",
     "text": [
      "/scratch/next/data/NEXT100/pressure_topology/voxel_dataset_13bar_1eroi.h5\n"
     ]
    }
   ],
   "source": [
    "pressure = '13bar'\n",
    "sample   = '1eroi'\n",
    "\n",
    "path      = os.environ['LPRDATADIR']\n",
    "ifilename = path + dp.voxel_filename(pressure, sample)\n",
    "ofile     = 'temp.h5'\n",
    "print(ifilename)"
   ]
  },
  {
   "cell_type": "code",
   "execution_count": 74,
   "metadata": {},
   "outputs": [],
   "source": [
    "voxels = pd.read_hdf(ifilename, 'voxels')"
   ]
  },
  {
   "cell_type": "code",
   "execution_count": null,
   "metadata": {},
   "outputs": [],
   "source": []
  }
 ],
 "metadata": {
  "kernelspec": {
   "display_name": "Python 3",
   "language": "python",
   "name": "python3"
  },
  "language_info": {
   "codemirror_mode": {
    "name": "ipython",
    "version": 3
   },
   "file_extension": ".py",
   "mimetype": "text/x-python",
   "name": "python",
   "nbconvert_exporter": "python",
   "pygments_lexer": "ipython3",
   "version": "3.10.9"
  }
 },
 "nbformat": 4,
 "nbformat_minor": 2
}
