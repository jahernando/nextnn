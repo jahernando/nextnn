{
 "cells": [
  {
   "cell_type": "markdown",
   "metadata": {},
   "source": [
    "# XYIMG CNNs performace for different pressures\n",
    "\n",
    "\n",
    "data : 8/05/2025\n",
    "author: JA Hernando"
   ]
  },
  {
   "cell_type": "code",
   "execution_count": 113,
   "metadata": {},
   "outputs": [],
   "source": [
    "%matplotlib inline \n",
    "#%matplotlib notebook\n",
    "#matplotlib widget\n",
    "%reload_ext autoreload\n",
    "%autoreload 2"
   ]
  },
  {
   "cell_type": "markdown",
   "metadata": {},
   "source": [
    "## Image creation\n",
    "\n",
    "\n",
    "###  Inputs \n",
    "\n",
    "* An event is converted in a series of $(x,y)$ images with fix pitch size (10, 20 mm)\n",
    "\n",
    "* Only the main track is proyected in the image. It is centered. The energy of the track is the ratio of the track energy versus the total energy of the event. Usually very close to 1, as events are selected with total energy around the Qbb value.\n",
    "\n",
    "* Several images are created for one event: sum of all the energies in the pixel (*esum*), maximum energy on the pixel (*emax*), number of voxels in the pixel *ecount*, and *eman* and *zmean*\n",
    "\n",
    "* several pitches are studies: 5, 10, 15, 20, 30, 50 mm. Depending on the pressure. For 2 bar we studies 10, 20, 30, 50 mm, for 20 bar we studies 5, 10, 15, 20 mm.\n",
    "\n"
   ]
  },
  {
   "cell_type": "markdown",
   "metadata": {},
   "source": [
    "### MC inputs\n",
    "\n",
    "* For each event the images of the MC information is created to: There are two images:\n",
    "  *  *seg* with the segementation information in the pixels (3=blob, 2=other (delta electron), 1= track body). \n",
    "  *  *ext* the extremes of the tracks (the two ends of the track, in the cae of a bb0nu there are the blobs, in the caase of single electron, one extreme is the blob and the other the starting point of the track)\n",
    "  * *test* a spetial manipulated image where the energy of the track except 20% asociated to each blob is shared uniformely along all pixels of the tracks, and the blob energy (20% of the event) is located on the blob-extremes of the track.  This manupulated images serves as a *toy* input to check the CNN response.\n",
    "\n",
    "These images serve:\n",
    "  * to study the response of the CNN \n",
    "  *  train the CNN in simple images and ensure that the CNN performs fine."
   ]
  },
  {
   "cell_type": "markdown",
   "metadata": {},
   "source": [
    "#### 20 bar (10 x10)\n",
    "\n",
    "|  |  | \n",
    "| :--: | :--:| \n",
    "| ![data](./img/evt_20bar_10x10_target1_eimg.png) | ![test](./img/evt_20bar_10x10_target1_timg.png) | \n",
    "| ![data](./img/evt_20bar_10x10_target0_eimg.png) | ![test](./img/evt_20bar_10x10_target0_timg.png) | \n",
    "| 20 bar (10 x 10 ) | true |"
   ]
  },
  {
   "cell_type": "markdown",
   "metadata": {},
   "source": [
    "#### 13 bar (10 x 10)\n",
    "\n",
    "|  |  | \n",
    "| :--: | :--:| \n",
    "| ![data](./img/evt_13bar_10x10_target1_eimg.png) | ![test](./img/evt_13bar_10x10_target1_timg.png) | \n",
    "| ![data](./img/evt_13bar_10x10_target0_eimg.png) | ![test](./img/evt_13bar_10x10_target0_timg.png) | \n",
    "| 13 bar (10 x10) | true |"
   ]
  },
  {
   "cell_type": "markdown",
   "metadata": {},
   "source": [
    "#### 5 bar (10 x 10)\n",
    "\n",
    "|  |  | \n",
    "| :--: | :--:| \n",
    "| ![data](./img/evt_5bar_10x10_target1_eimg.png) | ![test](./img/evt_5bar_10x10_target1_timg.png) | \n",
    "| ![data](./img/evt_5bar_10x10_target0_eimg.png) | ![test](./img/evt_5bar_10x10_target0_timg.png) | \n",
    "| 5 bar (10 x 10) | true |"
   ]
  },
  {
   "cell_type": "markdown",
   "metadata": {},
   "source": [
    "#### 2 bar (10 x 10)\n",
    "\n",
    "|  |  | \n",
    "| :--: | :--:| \n",
    "| ![data](./img/evt_2bar_10x10_target1_eimg.png) | ![test](./img/evt_2bar_10x10_target1_timg.png) | \n",
    "| ![data](./img/evt_2bar_10x10_target0_eimg.png) | ![test](./img/evt_2bar_10x10_target0_timg.png) | \n",
    "| 2 bar (10 x10) | true |"
   ]
  },
  {
   "cell_type": "markdown",
   "metadata": {},
   "source": [
    "#### 1 bar (10 x 10)\n",
    "\n",
    "|  |  | \n",
    "| :--: | :--:| \n",
    "| ![data](./img/evt_1bar_10x10_target1_eimg.png) | ![test](./img/evt_1bar_10x10_target1_timg.png) | \n",
    "| ![data](./img/evt_1bar_10x10_target0_eimg.png) | ![test](./img/evt_1bar_10x10_target0_timg.png) | \n",
    "| 1 bar (10 x 10)| true |"
   ]
  },
  {
   "cell_type": "markdown",
   "metadata": {},
   "source": [
    "## Other width sizes"
   ]
  },
  {
   "cell_type": "markdown",
   "metadata": {},
   "source": [
    "#### 20 bar (5 x 5)\n",
    "\n",
    "|  |  | \n",
    "| :--: | :--:| \n",
    "| ![data](./img/evt_20bar_5x5_target1_eimg.png) | ![test](./img/evt_20bar_5x5_target1_timg.png) | \n",
    "| ![data](./img/evt_20bar_5x5_target0_eimg.png) | ![test](./img/evt_20bar_5x5_target0_timg.png) | \n",
    "| 20 bar (5 x 5| true |"
   ]
  },
  {
   "cell_type": "markdown",
   "metadata": {},
   "source": [
    "#### 2 bar (20 x 20)\n",
    "\n",
    "|  |  | \n",
    "| :--: | :--:| \n",
    "| ![data](./img/evt_2bar_20x20_target1_eimg.png) | ![test](./img/evt_2bar_20x20_target1_timg.png) | \n",
    "| ![data](./img/evt_2bar_20x20_target0_eimg.png) | ![test](./img/evt_2bar_20x20_target0_timg.png) | \n",
    "| 2 bar (20 x 20)| true |"
   ]
  },
  {
   "cell_type": "markdown",
   "metadata": {},
   "source": []
  },
  {
   "cell_type": "markdown",
   "metadata": {},
   "source": [
    "#### 1 bar (20 x 20)\n",
    "\n",
    "|  |  | \n",
    "| :--: | :--:| \n",
    "| ![data](./img/evt_1bar_20x20_target1_eimg.png) | ![test](./img/evt_1bar_20x20_target1_timg.png) | \n",
    "| ![data](./img/evt_1bar_20x20_target0_eimg.png) | ![test](./img/evt_1bar_20x20_target0_timg.png) | \n",
    "| 2 bar (20 x 20)| true |"
   ]
  },
  {
   "cell_type": "markdown",
   "metadata": {},
   "source": [
    "## CNN Performance "
   ]
  },
  {
   "cell_type": "markdown",
   "metadata": {},
   "source": [
    "#### CNN test and segment 10 x10\n",
    "\n",
    "|  |  | \n",
    "| :--: | :--:| \n",
    "| ![data](./img/roc_test__10x10_test.png) | ![test](./img/roc_test__10x10_seg.png) | \n",
    "| test | segments |\n",
    "\n",
    " * test is perfect: CNN works to indentify 1 or 2 simplied blobs, except for 20 bar, 10x10, indicate that NN has most likely not enough granularity\n",
    " * segment is perfect for 13, 5 bar, good for 20, 2 bar, and fails for 1 bar. Indications of two mutch granularity or a simple CNN"
   ]
  },
  {
   "cell_type": "markdown",
   "metadata": {},
   "source": [
    "#### CNN colors 10x10 \n",
    "\n",
    "|  |  | \n",
    "| :--: | :--:| \n",
    "| ![data](./img/roc_colors__13bar_10x10.png) | ![test](./img/roc_colors__2bar_10x10.png) | \n",
    "| 13 bar | 2 bar |\n",
    "\n",
    "* colors for 13 bars indicates that *esum, emax, ecount, zmean* are very good classification images, why *zmean*. And *emean* is just ok\n",
    "\n",
    "* color for 2 bar indicates that there is a grandient of discriminatio, from the lowest *emean* to the bests  *esum, *ecount*"
   ]
  },
  {
   "cell_type": "markdown",
   "metadata": {},
   "source": [
    "#### CNN esum 10 x10\n",
    "\n",
    "|  |  | \n",
    "| :--: | :--:| \n",
    "| ![data](./img/roc_widths__esum_20bar.png) | ![test](./img/roc_widths__esum_13bar.png) | \n",
    "| ![data](./img/roc_widths__esum_5bar.png) | ![test](./img/roc_widths__esum_2bar.png) | \n",
    "| ![data](./img/roc_widths__esum_1bar.png) |\n",
    "| esum| true |\n",
    "\n",
    "* *esum* discriminates for 20 bar (5x5), 13, 5 bar, 2 bar (10 x10), but not for 1bar\n",
    "\n",
    "* 5 bar discrimiation using *esum* is perfect"
   ]
  },
  {
   "cell_type": "markdown",
   "metadata": {},
   "source": []
  },
  {
   "cell_type": "markdown",
   "metadata": {},
   "source": [
    "#### CNN ecount 10 x10\n",
    "\n",
    "|  |  | \n",
    "| :--: | :--:| \n",
    "| ![data](./img/roc_widths__ecount_20bar.png) | ![test](./img/roc_widths__ecount_13bar.png) | \n",
    "| ![data](./img/roc_widths__ecount_5bar.png)  | ![test](./img/roc_widths__ecount_2bar.png) | \n",
    "| ![data](./img/roc_widths__ecount_1bar.png) |\n",
    "\n",
    "\n",
    "* similar behavior using *esum* or *ecount* (number of voxels)"
   ]
  },
  {
   "cell_type": "markdown",
   "metadata": {},
   "source": [
    "#### CNN e-combo 2 and 1 bar\n",
    "\n",
    "|  |  | \n",
    "| :--: | :--:| \n",
    "| ![data](./img/roc_widths__esum+emax+ecount+zmean_2bar.png) | ![test](./img/roc_widths__esum+emax+ecount+zmean_1bar.png) | \n",
    "| 2bar| 1bar |\n",
    "\n",
    "* using more information, CNN at 2 bar (10 x 10) gets very good performance\n",
    "\n",
    "* fails for 1 bar! why? (too complex tracs for a 2d projection?, too simple CNN?)"
   ]
  },
  {
   "cell_type": "markdown",
   "metadata": {},
   "source": []
  }
 ],
 "metadata": {
  "kernelspec": {
   "display_name": "Python 3",
   "language": "python",
   "name": "python3"
  }
 },
 "nbformat": 4,
 "nbformat_minor": 2
}
