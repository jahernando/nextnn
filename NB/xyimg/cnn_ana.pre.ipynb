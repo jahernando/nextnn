{
 "cells": [
  {
   "cell_type": "markdown",
   "metadata": {},
   "source": [
    "# XYIMG CNNs performace for different pressures\n",
    "\n",
    "\n",
    "data : 8/05/2025\n",
    "author: JA Hernando"
   ]
  },
  {
   "cell_type": "code",
   "execution_count": null,
   "metadata": {
    "vscode": {
     "languageId": "plaintext"
    }
   },
   "outputs": [],
   "source": [
    "%matplotlib inline \n",
    "#%matplotlib notebook\n",
    "#matplotlib widget\n",
    "%reload_ext autoreload\n",
    "%autoreload 2"
   ]
  },
  {
   "cell_type": "markdown",
   "metadata": {},
   "source": [
    "## Levels\n",
    "\n",
    "\n",
    "###  Inputs \n",
    "An event is converted in a series of $(x,y)$ images. \n",
    "\n",
    "The main track is scaled to fit into an $n \\times n$ grid. (i.e $8 \\times 8$)\n",
    "\n",
    "In pixel contains information. i.e *esum* is the sum of the energy in that pixel, *emax* is the energy of the voxel with the maximum energy in that pixel.\n"
   ]
  },
  {
   "cell_type": "markdown",
   "metadata": {},
   "source": [
    "|  |  |\n",
    "| :--: | :--:|\n",
    "| ![13 bar](./img/xyimg_13bar_levels_8x8_evt0.png) | ![13 bar](./img/xyimg_13bar_levels_8x8_evt0_true.png) |\n",
    "| 13 bar | true |\n",
    "\n"
   ]
  },
  {
   "cell_type": "markdown",
   "metadata": {},
   "source": [
    "|  |  |\n",
    "| :--: | :--:|\n",
    "| ![13 bar](./img/xyimg_1bar_levels_8x8_evt0.png) | ![13 bar](./img/xyimg_1bar_levels_32x32_evt20.png) |\n",
    "| 1 bar | 1 bar |\n",
    "\n",
    "Could be that the deconvolution kernel is too large!\n",
    "\n"
   ]
  },
  {
   "cell_type": "markdown",
   "metadata": {},
   "source": [
    "|  |  |\n",
    "| :--: | :--:|\n",
    "| ![13 bar](./img/xyimg_2bar_levels_16x16_evt0.png) | ![13 bar](./img/xyimg_2bar_levels_16x16_evt0_true.png) |\n",
    "| 2 bar | 2 bar |\n",
    "\n"
   ]
  },
  {
   "cell_type": "markdown",
   "metadata": {},
   "source": [
    "### CNN architecture\n",
    "\n",
    "The [CNN](https://github.com/jahernando/nextnn/blob/main/xyimg/cnn.py)\n",
    "\n",
    "* reduces the width of the images (by a factor 2 in each step), and increases its depth (by a factor 2) in 4 convulational steps. \n",
    "\n",
    "* Data is converted into an array. The NN performs 2 linears steps and ends in a single neuron."
   ]
  },
  {
   "cell_type": "markdown",
   "metadata": {},
   "source": [
    "|  |  |\n",
    "| :--: | :--:|\n",
    "| ![13 bar](./img/roc_13bar_levels_8x8.png) | ![13 bar](./img/roc_13bar_levels_16x16.png) |\n",
    "\n",
    "No difference between 8 and 16 grids\n",
    "\n",
    "The best is to use a series of images\n",
    "\n",
    "\n"
   ]
  },
  {
   "cell_type": "markdown",
   "metadata": {},
   "source": [
    "labels:\n",
    "\n",
    "* esum : sum of the energy of the voxels\n",
    "* emax : maximum energy\n",
    "* esimple : (esum, emax, counts)\n",
    "* e : (esum, emax, counts, emean, estd)\n",
    "* ex: (esum, emax, counts, emean, estd, zmean, zstd)"
   ]
  },
  {
   "cell_type": "markdown",
   "metadata": {},
   "source": [
    "|  |  |\n",
    "| :--: | :--:|\n",
    "| ![5 bar](./img/roc_5bar_levels_8x8.png) | ![5 bar](./img/roc_5bar_levels_16x16.png) |\n",
    "\n",
    "Worse than at 13 bars, why?\n",
    "\n",
    "16 grid does not improve, why?\n"
   ]
  },
  {
   "cell_type": "markdown",
   "metadata": {},
   "source": [
    "|  |  | | \n",
    "| :--: | :--:| :--: \n",
    "| ![2 bar](./img/roc_2bar_levels_8x8.png) | ![2 bar](./img/roc_2bar_levels_16x16.png) | ![2 bar](./img/roc_2bar_levels_32x32.png) |\n",
    "\n",
    "\n",
    "Worse than at 13 bars, why?\n",
    "\n",
    "best grid 16, why not 32?"
   ]
  },
  {
   "cell_type": "markdown",
   "metadata": {},
   "source": [
    "|  |  | | \n",
    "| :--: | :--:| :--: \n",
    "| ![2 bar](./img/roc_1bar_levels_8x8.png) | ![2 bar](./img/roc_1bar_levels_16x16.png) | ![2 bar](./img/roc_1bar_levels_32x32.png) |\n",
    "\n",
    "\n",
    "Serious worse than at 2 bar, why??\n",
    "\n",
    "Slightly best 32 grid!"
   ]
  },
  {
   "cell_type": "markdown",
   "metadata": {},
   "source": [
    "Questions:\n",
    "\n",
    "* Why the NN is not so good? and Why the results are worse for 2-1 bar?\n",
    "    - simplicity\n",
    "    - it has lost the information of the length due to the scale of the track inside the box\n",
    "    - the granularity is not enough\n",
    "    - the physics?\n",
    "\n",
    "* If the NN is to simple, that implies that in order to gain rejection, for lower pressure, we need to use a complex NN\n",
    "\n",
    "* If it is the granularity, a GNN should work better\n",
    "\n",
    "\n"
   ]
  },
  {
   "cell_type": "markdown",
   "metadata": {},
   "source": [
    "## Projections\n",
    "\n",
    "The inputs are images in the (x, y), (x, z) or (z, y) projections. \n",
    "\n",
    "We can use the esum, emax, emean, count to create the images\n",
    "\n",
    "We use the same CNN (convolutional + linear + single output) as in the case of levels"
   ]
  },
  {
   "cell_type": "markdown",
   "metadata": {},
   "source": [
    "|  |  |\n",
    "| :--: | :--:|\n",
    "| ![5 bar](./img/xyimg_projections_13bar_evt0_1.png) | ![5 bar](./img/xyimg_projections_13bar_evt0_1true.png) |\n",
    "| ![5 bar](./img/xyimg_projections_13bar_evt0_2.png) | ![5 bar](./img/xyimg_projections_13bar_evt0_2true.png) |\n",
    "| 13 bar projections | true |"
   ]
  },
  {
   "cell_type": "markdown",
   "metadata": {},
   "source": [
    "|  |  |\n",
    "| :--: | :--:|\n",
    "| ![5 bar](./img/xyimg_projections_1bar_evt30_1.png) | ![5 bar](./img/xyimg_projections_1bar_evt30_1true.png) |\n",
    "| ![5 bar](./img/xyimg_projections_1bar_evt30_2.png) | ![5 bar](./img/xyimg_projections_1bar_evt30_2true.png) |\n",
    "| 1 bar projections | true |"
   ]
  },
  {
   "cell_type": "markdown",
   "metadata": {},
   "source": [
    "|  |  |\n",
    "| :--: | :--:|\n",
    "| ![5 bar](./img/roc_5bar_projections_8x8.png) | ![5 bar](./img/roc_5bar_projections_16x16.png) |\n",
    "\n"
   ]
  },
  {
   "cell_type": "markdown",
   "metadata": {},
   "source": [
    "|  |  |\n",
    "| :--: | :--:|\n",
    "| ![5 bar](./img/roc_2bar_projections_8x8.png) | ![5 bar](./img/roc_2bar_projections_16x16.png) |"
   ]
  },
  {
   "cell_type": "markdown",
   "metadata": {},
   "source": [
    "|  |  |\n",
    "| :--: | :--:|\n",
    "| ![5 bar](./img/roc_1bar_projections_8x8.png) | ![5 bar](./img/roc_1bar_projections_16x16.png) |"
   ]
  },
  {
   "cell_type": "markdown",
   "metadata": {},
   "source": []
  }
 ],
 "metadata": {
  "language_info": {
   "name": "python"
  }
 },
 "nbformat": 4,
 "nbformat_minor": 2
}
