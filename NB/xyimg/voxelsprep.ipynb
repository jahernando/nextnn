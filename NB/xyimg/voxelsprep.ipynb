{
 "cells": [
  {
   "cell_type": "markdown",
   "metadata": {},
   "source": [
    "# Voxel preparation\n",
    "\n",
    "Runs in bkg and signal data files, \n",
    "\n",
    "Centers every event at origin\n",
    "\n",
    "Labels class, segclass, ext and provides a unique index (idx) to the events\n",
    "\n",
    "Group the voxels event data in bunches. For each bunch of events there is a h5 file. Files are ordered with increased index of events.\n",
    "\n",
    "**J. A. Hernando 02/08/2024**\n"
   ]
  },
  {
   "cell_type": "code",
   "execution_count": 2,
   "metadata": {},
   "outputs": [],
   "source": [
    "%matplotlib inline \n",
    "\n",
    "#%matplotlib notebook\n",
    "#matplotlib widget\n",
    "%reload_ext autoreload\n",
    "%autoreload 2"
   ]
  },
  {
   "cell_type": "code",
   "execution_count": 3,
   "metadata": {},
   "outputs": [],
   "source": [
    "import numpy     as np\n",
    "import pandas    as pd\n",
    "from   scipy     import stats\n",
    "import os\n",
    "import matplotlib.pyplot as plt"
   ]
  },
  {
   "cell_type": "code",
   "execution_count": 4,
   "metadata": {},
   "outputs": [],
   "source": [
    "import xyimg.voxelsprep as vp\n"
   ]
  },
  {
   "cell_type": "markdown",
   "metadata": {},
   "source": [
    "## Debug"
   ]
  },
  {
   "cell_type": "code",
   "execution_count": 5,
   "metadata": {},
   "outputs": [],
   "source": [
    "df1 = pd.DataFrame({'file_id':[1, 1, 2, 2], 'event':[0, 1, 2, 3], 'E':[10, 11, 12, 13]})\n",
    "df2 = pd.DataFrame({'file_id':[1, 1, 2, 2], 'event':[0, 1, 2, 3], 'E':[20, 21, 22, 23]})\n",
    "dfs = [df1, df2]"
   ]
  },
  {
   "cell_type": "code",
   "execution_count": 6,
   "metadata": {},
   "outputs": [],
   "source": [
    "gs = [x.groupby(['file_id', 'event']) for x in dfs]"
   ]
  },
  {
   "cell_type": "code",
   "execution_count": 7,
   "metadata": {},
   "outputs": [
    {
     "name": "stdout",
     "output_type": "stream",
     "text": [
      "[(0, (1, 0)), (0, (1, 1)), (0, (2, 2)), (0, (2, 3)), (1, (1, 0)), (1, (1, 1)), (1, (2, 2)), (1, (2, 3))]\n"
     ]
    }
   ],
   "source": [
    "keys = vp.get_keys(gs)\n",
    "print(keys)"
   ]
  },
  {
   "cell_type": "code",
   "execution_count": 8,
   "metadata": {},
   "outputs": [
    {
     "name": "stdout",
     "output_type": "stream",
     "text": [
      "(0, (1, 1))    file_id  event   E\n",
      "1        1      1  11\n",
      "(0, (1, 0))    file_id  event   E\n",
      "0        1      0  10\n",
      "(1, (1, 0))    file_id  event   E\n",
      "0        1      0  20\n",
      "(1, (1, 1))    file_id  event   E\n",
      "1        1      1  21\n"
     ]
    }
   ],
   "source": [
    "for ievt, evt in vp.evt_iter(gs, nevents = 2, shuffle = True):\n",
    "    print(ievt, evt)"
   ]
  },
  {
   "cell_type": "markdown",
   "metadata": {},
   "source": [
    "## Voxels-Code Debug"
   ]
  },
  {
   "cell_type": "code",
   "execution_count": 9,
   "metadata": {},
   "outputs": [],
   "source": [
    "ipath = os.environ['LPRDATADIR']\n",
    "\n",
    "pressure  = '5bar'\n",
    "sample    = '1eroi'\n",
    "\n",
    "bkgfilename = vp.filename_voxel(pressure, '1eroi')\n",
    "sigfilename = vp.filename_voxel(pressure, '0nubb') "
   ]
  },
  {
   "cell_type": "code",
   "execution_count": 10,
   "metadata": {},
   "outputs": [],
   "source": [
    "df1 = pd.read_hdf(ipath + bkgfilename, 'voxels')\n",
    "df2 = pd.read_hdf(ipath + sigfilename, 'voxels')"
   ]
  },
  {
   "cell_type": "code",
   "execution_count": 11,
   "metadata": {},
   "outputs": [],
   "source": [
    "dfs = [df1, df2]\n",
    "gs  = [df.groupby(['file_id', 'event']) for df in dfs]"
   ]
  },
  {
   "cell_type": "code",
   "execution_count": 12,
   "metadata": {},
   "outputs": [
    {
     "name": "stdout",
     "output_type": "stream",
     "text": [
      "data size 4.8e-05 Mb\n"
     ]
    }
   ],
   "source": [
    "from sys import getsizeof\n",
    "print(f\"data size {getsizeof(gs[0])/1e6} Mb\")"
   ]
  },
  {
   "cell_type": "code",
   "execution_count": 18,
   "metadata": {},
   "outputs": [
    {
     "name": "stdout",
     "output_type": "stream",
     "text": [
      ">>> Event  0 (1, (1, 1))\n",
      "number of voxels  396 , file id 1 , event  1 , class  1\n",
      ">>> Event  1 (0, (1, 2))\n",
      "number of voxels  447 , file id 1 , event  2 , class  0\n",
      ">>> Event  2 (0, (1, 1))\n",
      "number of voxels  434 , file id 1 , event  1 , class  0\n",
      ">>> Event  3 (1, (1, 4))\n",
      "number of voxels  429 , file id 1 , event  4 , class  1\n",
      ">>> Event  4 (1, (1, 0))\n",
      "number of voxels  396 , file id 1 , event  0 , class  1\n",
      ">>> Event  5 (1, (1, 2))\n",
      "number of voxels  427 , file id 1 , event  2 , class  1\n",
      ">>> Event  6 (1, (1, 3))\n",
      "number of voxels  347 , file id 1 , event  3 , class  1\n",
      ">>> Event  7 (0, (1, 0))\n",
      "number of voxels  490 , file id 1 , event  0 , class  0\n",
      ">>> Event  8 (0, (1, 4))\n",
      "number of voxels  463 , file id 1 , event  4 , class  0\n",
      ">>> Event  9 (0, (1, 3))\n",
      "number of voxels  498 , file id 1 , event  3 , class  0\n"
     ]
    }
   ],
   "source": [
    "nevents = 5\n",
    "shuffle = True\n",
    "_int = lambda x : int(x.unique())\n",
    "for i, ievt in enumerate(vp.evt_iter(gs, nevents, shuffle)):\n",
    "    idevt, evt = ievt\n",
    "    print('>>> Event ', i, idevt)\n",
    "    print('number of voxels ', len(evt), ', file id', _int(evt['file_id']),\n",
    "          ', event ', _int(evt['event']), ', class ', _int(evt['binclass']))"
   ]
  },
  {
   "cell_type": "code",
   "execution_count": 24,
   "metadata": {},
   "outputs": [
    {
     "name": "stdout",
     "output_type": "stream",
     "text": [
      "processed event  0 , id  (0, (1, 4))\n",
      "processed event  1 , id  (0, (1, 8))\n",
      "processed event  2 , id  (0, (1, 6))\n",
      "processed event  3 , id  (1, (1, 2))\n",
      "processed event  4 , id  (0, (1, 9))\n",
      "k-events  5\n",
      "proceesed bunch  0\n",
      "saved processed bunch data at: vtemp_bunch0.h5\n",
      "processed event  5 , id  (1, (1, 0))\n",
      "processed event  6 , id  (0, (1, 2))\n",
      "processed event  7 , id  (0, (1, 0))\n",
      "processed event  8 , id  (1, (1, 3))\n",
      "processed event  9 , id  (1, (1, 7))\n",
      "k-events  5\n",
      "proceesed bunch  1\n",
      "saved processed bunch data at: vtemp_bunch1.h5\n",
      "processed event  10 , id  (1, (1, 4))\n",
      "processed event  11 , id  (0, (1, 5))\n",
      "processed event  12 , id  (1, (1, 8))\n",
      "processed event  13 , id  (1, (1, 9))\n",
      "processed event  14 , id  (0, (1, 7))\n",
      "k-events  5\n",
      "proceesed bunch  2\n",
      "saved processed bunch data at: vtemp_bunch2.h5\n",
      "processed event  15 , id  (1, (1, 5))\n",
      "processed event  16 , id  (1, (1, 6))\n",
      "processed event  17 , id  (0, (1, 3))\n",
      "processed event  18 , id  (0, (1, 4))\n",
      "processed event  19 , id  (0, (1, 1))\n"
     ]
    }
   ],
   "source": [
    "ofilename = 'vtemp.h5'\n",
    "nbunch    = 5\n",
    "nevents   = 10\n",
    "shuffle   = True\n",
    "\n",
    "\n",
    "def _save(kdf, ibunch):\n",
    "    print('proceesed bunch ', ibunch)\n",
    "    words = ofilename.split('.')\n",
    "    smain, stail = words\n",
    "    ofile = smain + '_bunch' + str(ibunch)+'.'+stail\n",
    "    kdf.to_hdf(ofile, 'voxels')\n",
    "    print('saved processed bunch data at:', ofile)\n",
    "    ibunch += 1\n",
    "    return ibunch\n",
    "\n",
    "def _concat(kdf, kevt, k):\n",
    "    kdf = pd.concat((kdf, kevt)) if k == 0 else kevt\n",
    "    k  += 1\n",
    "    return kdf, k\n",
    "\n",
    "# load the data\n",
    "ibunch = 0\n",
    "\n",
    "# loop in the events\n",
    "kdf, k = None, 0\n",
    "for i, ievt in enumerate(vp.evt_iter(gs, nevents = nevents, shuffle = shuffle)):\n",
    "\n",
    "    if  (k > 0) & (k % nbunch == 0): \n",
    "        print('events in the bunch ', k)\n",
    "        ibunch = _save(kdf, ibunch)\n",
    "        kdf, k = None, 0\n",
    "    if (i >=0) & (i %1 == 0):  print('processed event ', i, ', id ', idevt)\n",
    "\n",
    "    idevt, evt  = ievt\n",
    "    kevt        = vp.evt_preparation(evt)\n",
    "    kevt['idx'] = i\n",
    "    kdf, k      = _concat(kdf, kevt, k)\n",
    "    "
   ]
  }
 ],
 "metadata": {
  "kernelspec": {
   "display_name": "Python 3",
   "language": "python",
   "name": "python3"
  },
  "language_info": {
   "codemirror_mode": {
    "name": "ipython",
    "version": 3
   },
   "file_extension": ".py",
   "mimetype": "text/x-python",
   "name": "python",
   "nbconvert_exporter": "python",
   "pygments_lexer": "ipython3",
   "version": "3.10.9"
  }
 },
 "nbformat": 4,
 "nbformat_minor": 2
}
