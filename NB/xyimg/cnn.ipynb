{
 "cells": [
  {
   "cell_type": "code",
   "execution_count": 1,
   "metadata": {},
   "outputs": [],
   "source": [
    "%matplotlib inline \n",
    "#%matplotlib notebook\n",
    "#matplotlib widget\n",
    "%reload_ext autoreload\n",
    "%autoreload 2"
   ]
  },
  {
   "cell_type": "code",
   "execution_count": 2,
   "metadata": {},
   "outputs": [],
   "source": [
    "import random            as random\n",
    "import numpy             as np\n",
    "import pandas            as pd\n",
    "#import tables            as tb\n",
    "import matplotlib.pyplot as plt\n",
    "import os "
   ]
  },
  {
   "cell_type": "code",
   "execution_count": 3,
   "metadata": {},
   "outputs": [],
   "source": [
    "import xyimg.dataprep as dp\n",
    "import xyimg.cnn      as cnn"
   ]
  },
  {
   "cell_type": "markdown",
   "metadata": {},
   "source": [
    "## Test"
   ]
  },
  {
   "cell_type": "code",
   "execution_count": 14,
   "metadata": {},
   "outputs": [
    {
     "name": "stdout",
     "output_type": "stream",
     "text": [
      "input filename  /scratch/next/data/NEXT100/pressure_topology/xymm/xymm_13bar_xy_10x10_100.npz\n",
      "output filename  /scratch/next/data/NEXT100/pressure_topology/xymm/test_cnn_xymm_13bar_xy_10x10_100.npz\n",
      "--- data set ---\n",
      "Dataset : \n",
      "   labels   : ['esum', 'emax', 'ecount']\n",
      "   x shape  : (205612, 3, 10, 10)\n",
      "   y shape  : (205612, 1)\n",
      "   z labels : ['seg', 'ext']\n",
      "   z shape  : (205612, 2, 10, 10)\n",
      "\n",
      "{'loss_function': 'chi2'}\n",
      "Event Image tensor  (3, 10, 10)\n",
      "conv :  1  init  (3, 10) , next  (6, 5) , kernel  6\n",
      "conv :  2  init  (6, 5) , next  (12, 3) , kernel  3\n",
      "conv :  3  init  (12, 3) , next  (24, 2) , kernel  2\n",
      "conv :  4  init  (24, 2) , next  (48, 1) , kernel  2\n",
      "lin  : init  48 , next 6 , next  1\n",
      "CNN: [200, 3, 10, 10]-> [200, 3, 10, 10]-> [200, 6, 5, 5]-> [200, 6, 5, 5]-> [200, 6, 5, 5]-> [200, 12, 3, 3]-> [200, 12, 3, 3]-> [200, 12, 3, 3]-> [200, 24, 2, 2]-> [200, 24, 2, 2]-> [200, 24, 2, 2]-> [200, 48, 1, 1]-> [200, 48, 1, 1]-> [200, 48, 1, 1]-> [200, 48]-> [200, 6]-> [200, 1]-> \n",
      "Epoch:  train 1.91e-02 +- 3.61e-02  validation 3.01e-03 +- 2.69e-03\n",
      "Epoch:  train 1.95e-03 +- 2.15e-03  validation 1.45e-03 +- 1.98e-03\n",
      "Epoch:  train 1.31e-03 +- 1.87e-03  validation 9.44e-04 +- 1.63e-03\n",
      "Epoch:  train 9.29e-04 +- 1.65e-03  validation 5.97e-04 +- 1.37e-03\n",
      "Test  accuracy 99.95\n",
      "save cnn results at  /scratch/next/data/NEXT100/pressure_topology/xymm/test_cnn_xymm_13bar_xy_10x10_100.npz\n",
      "--- data set inv ---\n",
      "Dataset : \n",
      "   labels   : ['seg', 'ext']\n",
      "   x shape  : (205612, 2, 10, 10)\n",
      "   y shape  : (205612, 1)\n",
      "   z labels : ['esum', 'emax', 'emean', 'ecount', 'zmean']\n",
      "   z shape  : (205612, 5, 10, 10)\n",
      "\n",
      "{'loss_function': 'chi2'}\n",
      "Event Image tensor  (2, 10, 10)\n",
      "conv :  1  init  (2, 10) , next  (4, 5) , kernel  6\n",
      "conv :  2  init  (4, 5) , next  (8, 3) , kernel  3\n",
      "conv :  3  init  (8, 3) , next  (16, 2) , kernel  2\n",
      "conv :  4  init  (16, 2) , next  (32, 1) , kernel  2\n",
      "lin  : init  32 , next 4 , next  1\n",
      "CNN: [200, 2, 10, 10]-> [200, 2, 10, 10]-> [200, 4, 5, 5]-> [200, 4, 5, 5]-> [200, 4, 5, 5]-> [200, 8, 3, 3]-> [200, 8, 3, 3]-> [200, 8, 3, 3]-> [200, 16, 2, 2]-> [200, 16, 2, 2]-> [200, 16, 2, 2]-> [200, 32, 1, 1]-> [200, 32, 1, 1]-> [200, 32, 1, 1]-> [200, 32]-> [200, 4]-> [200, 1]-> \n",
      "Epoch:  train 2.87e-02 +- 4.46e-02  validation 3.83e-03 +- 2.44e-03\n",
      "Epoch:  train 2.38e-03 +- 2.11e-03  validation 1.24e-03 +- 1.41e-03\n",
      "Epoch:  train 9.39e-04 +- 1.29e-03  validation 4.88e-04 +- 8.95e-04\n",
      "Epoch:  train 5.18e-04 +- 9.80e-04  validation 3.35e-04 +- 8.86e-04\n",
      "Test  accuracy 99.96\n",
      "save cnn results at  /scratch/next/data/NEXT100/pressure_topology/xymm/test_cnn_xymm_13bar_xy_10x10_100.npz\n",
      "--- data set test ---\n",
      "Dataset : \n",
      "   labels   : ['test']\n",
      "   x shape  : (200038, 1, 10, 10)\n",
      "   y shape  : (200038, 1)\n",
      "   z labels : ['seg', 'ext']\n",
      "   z shape  : (200038, 2, 10, 10)\n",
      "\n",
      "{'loss_function': 'chi2'}\n",
      "Event Image tensor  (1, 10, 10)\n",
      "conv :  1  init  (1, 10) , next  (2, 5) , kernel  6\n",
      "conv :  2  init  (2, 5) , next  (4, 3) , kernel  3\n",
      "conv :  3  init  (4, 3) , next  (8, 2) , kernel  2\n",
      "conv :  4  init  (8, 2) , next  (16, 1) , kernel  2\n",
      "lin  : init  16 , next 2 , next  1\n",
      "CNN: [200, 1, 10, 10]-> [200, 1, 10, 10]-> [200, 2, 5, 5]-> [200, 2, 5, 5]-> [200, 2, 5, 5]-> [200, 4, 3, 3]-> [200, 4, 3, 3]-> [200, 4, 3, 3]-> [200, 8, 2, 2]-> [200, 8, 2, 2]-> [200, 8, 2, 2]-> [200, 16, 1, 1]-> [200, 16, 1, 1]-> [200, 16, 1, 1]-> [200, 16]-> [200, 2]-> [200, 1]-> \n",
      "Epoch:  train 6.23e-02 +- 5.78e-02  validation 1.39e-02 +- 3.59e-03\n",
      "Epoch:  train 8.16e-03 +- 4.30e-03  validation 5.05e-03 +- 3.16e-03\n",
      "Epoch:  train 3.48e-03 +- 2.52e-03  validation 2.11e-03 +- 2.07e-03\n",
      "Epoch:  train 2.04e-03 +- 2.07e-03  validation 1.71e-03 +- 1.86e-03\n",
      "Test  accuracy 99.85\n",
      "save cnn results at  /scratch/next/data/NEXT100/pressure_topology/xymm/test_cnn_xymm_13bar_xy_10x10_100.npz\n"
     ]
    },
    {
     "data": {
      "text/plain": [
       "True"
      ]
     },
     "execution_count": 14,
     "metadata": {},
     "output_type": "execute_result"
    }
   ],
   "source": [
    "path = os.environ['LPRDATADIR']+'xymm/'\n",
    "\n",
    "pressure = '13bar'\n",
    "coors  = ('x', 'y')\n",
    "widths = (10, 10)\n",
    "frame  = dp.frames[pressure]\n",
    "ifile = path + dp.xymm_filename(coors, widths, frame, prefix = 'xymm_'+pressure)\n",
    "\n",
    "cnn.test(ifile)"
   ]
  },
  {
   "cell_type": "markdown",
   "metadata": {},
   "source": [
    "## RUN CNN"
   ]
  },
  {
   "cell_type": "code",
   "execution_count": 15,
   "metadata": {},
   "outputs": [
    {
     "name": "stdout",
     "output_type": "stream",
     "text": [
      "input file  :  /scratch/next/data/NEXT100/pressure_topology/xymm/xymm_13bar_xy_10x10_100.npz\n",
      "output file :  temp//temp_cnn_esum_xymm_13bar_xy_10x10_100.npz\n",
      "Dataset : \n",
      "   labels   : ['esum']\n",
      "   x shape  : (205612, 1, 10, 10)\n",
      "   y shape  : (205612, 1)\n",
      "   z labels : ['seg', 'ext']\n",
      "   z shape  : (205612, 2, 10, 10)\n",
      "\n",
      "{'loss_function': 'MSELoss'}\n",
      "Event Image tensor  (1, 10, 10)\n",
      "conv :  1  init  (1, 10) , next  (2, 6) , kernel  5\n",
      "conv :  2  init  (2, 6) , next  (4, 3) , kernel  4\n",
      "conv :  3  init  (4, 3) , next  (8, 2) , kernel  2\n",
      "conv :  4  init  (8, 2) , next  (16, 1) , kernel  2\n",
      "lin  : init  16 , next 2 , next  1\n",
      "CNN: [200, 1, 10, 10]-> [200, 1, 10, 10]-> [200, 2, 6, 6]-> [200, 2, 6, 6]-> [200, 2, 6, 6]-> [200, 4, 3, 3]-> [200, 4, 3, 3]-> [200, 4, 3, 3]-> [200, 8, 2, 2]-> [200, 8, 2, 2]-> [200, 8, 2, 2]-> [200, 16, 1, 1]-> [200, 16, 1, 1]-> [200, 16, 1, 1]-> [200, 16]-> [200, 2]-> [200, 1]-> \n",
      "Epoch:  train 6.65e-02 +- 5.99e-02  validation 2.13e-02 +- 6.34e-03\n",
      "Epoch:  train 1.83e-02 +- 6.59e-03  validation 1.38e-02 +- 5.61e-03\n",
      "Test  accuracy 98.37\n",
      "save cnn results at  temp//temp_cnn_esum_xymm_13bar_xy_10x10_100.npz\n"
     ]
    }
   ],
   "source": [
    "ipath = os.environ['LPRDATADIR']+'xymm/'\n",
    "opath = 'temp/'\n",
    "\n",
    "pressure   = '5bar'\n",
    "coors      = ('x', 'y')\n",
    "widths     = (10, 10)\n",
    "labels     = ['esum']\n",
    "cnn_name   = 'temp_cnn_'\n",
    "nepochs    = 2\n",
    "config     = cnn.config\n",
    "config['loss_function'] = 'MSELoss' # 'MSELoss', 'chi2'\n",
    "\n",
    "idata, odata = cnn.production(ipath, opath, pressure, coors, widths, labels, nepochs = nepochs, cnn_name = cnn_name, config = config)\n"
   ]
  },
  {
   "cell_type": "code",
   "execution_count": 25,
   "metadata": {},
   "outputs": [
    {
     "name": "stdout",
     "output_type": "stream",
     "text": [
      " Conv  : [ 2 ,  10 ] -> [ 4 ,  7 ], ndim =  196 , k =  4\n",
      " Conv  : [ 4 ,  7 ] -> [ 8 ,  4 ], ndim =  128 , k =  4\n",
      " Conv  : [ 8 ,  4 ] -> [ 16 ,  3 ], ndim =  144 , k =  2\n",
      " Conv  : [ 16 ,  3 ] -> [ 32 ,  2 ], ndim =  128 , k =  2\n",
      " Lin   :  128  ->  4\n",
      " Lin   :  4  ->  1\n"
     ]
    }
   ],
   "source": [
    "m, n = 2, 10\n",
    "k, f = 4, 2\n",
    "\n",
    "mycc = cnn.ExtGoCNN(m, n, k, f)"
   ]
  },
  {
   "cell_type": "markdown",
   "metadata": {},
   "source": [
    "## Ana CNN"
   ]
  },
  {
   "cell_type": "code",
   "execution_count": 26,
   "metadata": {},
   "outputs": [
    {
     "name": "stdout",
     "output_type": "stream",
     "text": [
      "data file :  /scratch/next/data/NEXT100/pressure_topology/xymm/xymm_13bar_xy_10x10_100.npz\n",
      "cnn file  : temp//temp_cnn_esum_xymm_13bar_xy_10x10_100.npz\n"
     ]
    }
   ],
   "source": [
    "#path       = os.environ['LPRDATADIR']\n",
    "#ipath      = path + 'xymm/'\n",
    "#opath      = path + 'cnn/'\n",
    "#pressure   = '5bar'\n",
    "projection = ('x', 'y')\n",
    "#widths     = (10, 10)\n",
    "#labels     = ['seg',]\n",
    "\n",
    "idata, odata = cnn.retrieve_cnn_data(ipath, opath, pressure, projection, widths, labels, cnn_name = cnn_name)"
   ]
  },
  {
   "cell_type": "code",
   "execution_count": 27,
   "metadata": {},
   "outputs": [
    {
     "data": {
      "image/png": "[encoded data removed]",
      "text/plain": [
       "<Figure size 640x480 with 1 Axes>"
      ]
     },
     "metadata": {},
     "output_type": "display_data"
    }
   ],
   "source": [
    "cnn.plot_epochs(odata['epochs'])"
   ]
  },
  {
   "cell_type": "code",
   "execution_count": 28,
   "metadata": {},
   "outputs": [
    {
     "data": {
      "image/png": "[encoded data removed]",
      "text/plain": [
       "<Figure size 640x480 with 2 Axes>"
      ]
     },
     "metadata": {},
     "output_type": "display_data"
    }
   ],
   "source": [
    "cnn.plot_roc(odata['y'], odata['yp'], 0.95)"
   ]
  },
  {
   "cell_type": "code",
   "execution_count": 22,
   "metadata": {},
   "outputs": [
    {
     "name": "stdout",
     "output_type": "stream",
     "text": [
      "event  154094\n",
      "target test       1\n",
      "target test pred  0.9983534216880798\n",
      "success           True\n",
      "total     test 1.0\n"
     ]
    },
    {
     "data": {
      "image/png": "[encoded data removed]",
      "text/plain": [
       "<Figure size 640x480 with 2 Axes>"
      ]
     },
     "metadata": {},
     "output_type": "display_data"
    }
   ],
   "source": [
    "cnn.plot_event(idata, odata, labels)"
   ]
  }
 ],
 "metadata": {
  "kernelspec": {
   "display_name": "Python 3",
   "language": "python",
   "name": "python3"
  },
  "language_info": {
   "codemirror_mode": {
    "name": "ipython",
    "version": 3
   },
   "file_extension": ".py",
   "mimetype": "text/x-python",
   "name": "python",
   "nbconvert_exporter": "python",
   "pygments_lexer": "ipython3",
   "version": "3.10.9"
  }
 },
 "nbformat": 4,
 "nbformat_minor": 2
}
