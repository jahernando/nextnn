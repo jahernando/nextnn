{
 "cells": [
  {
   "cell_type": "markdown",
   "metadata": {},
   "source": [
    "# Summary about LPR inspection\n"
   ]
  },
  {
   "cell_type": "markdown",
   "metadata": {},
   "source": [
    "## Main Parameters"
   ]
  },
  {
   "cell_type": "markdown",
   "metadata": {},
   "source": [
    "\n",
    "| Data  | Pressure |  events | size (Gb) | Size/event (kb)| Hits     | Voxels  | dx (mm) | dz (mm)| E-voxel (keV) | E-Voxel blob range(keV) |\n",
    "|:-----:|:--------:|:-------:|:---------:|:--------------:|:--------:|:-------:|:-------:|:------:|:-------------:|:-----------------:|\n",
    "| 1e    | 1        | 92516   | 12.6      | 136.2          | 5228+-267  |2250+-182 | 284+-73  | 348+-100 | 1.08 +-2.2     | (10, 70) |\n",
    "| 1e    | 2        |103536   | 7.2       | 69.6           | 2526+-121  |1152+-94 | 202+-70  | 223+-85 | 2.1 +-3.7     | (20, 120) |\n",
    "| 1e    | 5        |108558   | 3.0       | 27.6           | 993+-50  | 451+-40 | 91+-36  | 92+-37 | 5.4 +-7.8     | (60, 200) |\n",
    "| 1e    | 13       |103131   | 0.964     | 9.4            | 386+-39  | 150+-15 | 32+-12  | 32+-12 | 16 +-19      | (150, 400) |\n",
    "\n"
   ]
  },
  {
   "cell_type": "markdown",
   "metadata": {},
   "source": [
    "\n",
    "| Data  | Pressure |  events | size (Gb) | Size/event (kb)| Hits     | Voxels  | dx (mm) | dz (mm)| E-voxel (keV) | E-Voxel blob range(keV) |\n",
    "|:-----:|:--------:|:-------:|:---------:|:--------------:|:--------:|:-------:|:-------:|:------:|:-------------:|:-----------------:|\n",
    "| 0nubb    | 1        |  15774   | 2.1      | 131.3          | 5133+-241  |2183+-163 | 261+-71 | 302+-95 | 1.1 +-2.3     | (20, 70) |\n",
    "| 0nubb    | 2        |  13549  | 906.5       | 66.9          | 2425+-106  |1079+-83 | 166+-61  | 175+-67 | 2.2 +-3.9     | (40, 120) |\n",
    "| 0nubb    | 5        | 104914   | 2.6       | 24.7           | 950+-48  | 413+-35 | 71+-28  | 71+-28 | 5.9 +-9.7     | (100, 200) |\n",
    "| 0nubb    | 13       |102481   | 0.8527      | 8.3            | 375+-38  | 134+-14 | 24.6+-10  | 24.7+-10 | 18 +-23      | (200, 400) |"
   ]
  },
  {
   "cell_type": "markdown",
   "metadata": {},
   "source": [
    "## Event examples"
   ]
  },
  {
   "cell_type": "markdown",
   "metadata": {},
   "source": [
    "\n",
    "|      |  | \n",
    "|:--:|:--:|\n",
    "| ![event 1 bar 1e](./img/evt_1bar_1eroi.png) | ![event 2 bar 1e](./img/evt_2bar_1eroi.png) |\n",
    "| 1 bar 1 e|  2 bar 1 e|\n",
    "| ![event 5 bar 1e](./img/evt_5bar_1eroi.png) | ![event 13 bar 1e](./img/evt_13bar_1eroi.png) |\n",
    "| 5 bar 1 e|  13 bar 1 e|\n",
    "\n",
    "\n",
    "\n"
   ]
  },
  {
   "cell_type": "markdown",
   "metadata": {},
   "source": [
    "|      |  | \n",
    "|:--:|:--:|\n",
    "| ![event 1 bar 1e](img/evt_1bar_0nubb.png) | ![event 2 bar 1e](img/evt_2bar_0nubb.png) |\n",
    "| 1 bar 0nubb|  2 bar 0nubb|\n",
    "| ![event 5 bar 1e](img/evt_5bar_0nubb.png) | ![event 13 bar 1e](img/evt_13bar_0nubb.png) |\n",
    "| 5 bar 0nubb|  13 bar 0nubb|"
   ]
  },
  {
   "cell_type": "markdown",
   "metadata": {},
   "source": [
    "## Voxel Energy classified by segmentation"
   ]
  },
  {
   "cell_type": "markdown",
   "metadata": {},
   "source": [
    "|      |  | \n",
    "|:--:|:--:|\n",
    "| ![event 1 bar 1e](img/evoxel_by_segment_1bar_0nubb.png) | ![event 2 bar 1e](img/evoxel_by_segment_13bar_0nubb.png) |\n",
    "| 1 bar 0nubb|  2 bar 0nubb|\n"
   ]
  },
  {
   "cell_type": "markdown",
   "metadata": {},
   "source": []
  }
 ],
 "metadata": {
  "kernelspec": {
   "display_name": "Python 3 (ipykernel)",
   "language": "python",
   "name": "python3"
  },
  "language_info": {
   "codemirror_mode": {
    "name": "ipython",
    "version": 3
   },
   "file_extension": ".py",
   "mimetype": "text/x-python",
   "name": "python",
   "nbconvert_exporter": "python",
   "pygments_lexer": "ipython3",
   "version": "3.10.9"
  }
 },
 "nbformat": 4,
 "nbformat_minor": 2
}
